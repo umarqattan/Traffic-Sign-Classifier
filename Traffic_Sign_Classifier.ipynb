{
 "cells": [
  {
   "cell_type": "markdown",
   "metadata": {},
   "source": [
    "# Self-Driving Car Engineer Nanodegree\n",
    "\n",
    "## Deep Learning\n",
    "\n",
    "## Project: Build a Traffic Sign Recognition Classifier\n",
    "\n",
    "In this notebook, a template is provided for you to implement your functionality in stages, which is required to successfully complete this project. If additional code is required that cannot be included in the notebook, be sure that the Python code is successfully imported and included in your submission if necessary. \n",
    "\n",
    "> **Note**: Once you have completed all of the code implementations, you need to finalize your work by exporting the iPython Notebook as an HTML document. Before exporting the notebook to html, all of the code cells need to have been run so that reviewers can see the final implementation and output. You can then export the notebook by using the menu above and navigating to  \\n\",\n",
    "    \"**File -> Download as -> HTML (.html)**. Include the finished document along with this notebook as your submission. \n",
    "\n",
    "In addition to implementing code, there is a writeup to complete. The writeup should be completed in a separate file, which can be either a markdown file or a pdf document. There is a [write up template](https://github.com/udacity/CarND-Traffic-Sign-Classifier-Project/blob/master/writeup_template.md) that can be used to guide the writing process. Completing the code template and writeup template will cover all of the [rubric points](https://review.udacity.com/#!/rubrics/481/view) for this project.\n",
    "\n",
    "The [rubric](https://review.udacity.com/#!/rubrics/481/view) contains \"Stand Out Suggestions\" for enhancing the project beyond the minimum requirements. The stand out suggestions are optional. If you decide to pursue the \"stand out suggestions\", you can include the code in this Ipython notebook and also discuss the results in the writeup file.\n",
    "\n",
    "\n",
    ">**Note:** Code and Markdown cells can be executed using the **Shift + Enter** keyboard shortcut. In addition, Markdown cells can be edited by typically double-clicking the cell to enter edit mode."
   ]
  },
  {
   "cell_type": "markdown",
   "metadata": {},
   "source": [
    "## Import Modules\n"
   ]
  },
  {
   "cell_type": "code",
   "execution_count": 1,
   "metadata": {},
   "outputs": [
    {
     "name": "stdout",
     "output_type": "stream",
     "text": [
      "[0/1]: Importing all relevant modules...\n",
      "[1/1]: Finished importing all relevant modules...\n"
     ]
    }
   ],
   "source": [
    "print('[0/1]: Importing all relevant modules...')\n",
    "\n",
    "import numpy as np\n",
    "import pickle\n",
    "import random\n",
    "import matplotlib.pyplot as plt\n",
    "import matplotlib.image as mpimg\n",
    "import matplotlib.mlab as mlab\n",
    "import collections\n",
    "import cv2\n",
    "import sklearn\n",
    "from sklearn.utils import shuffle\n",
    "from sklearn import preprocessing\n",
    "from sklearn.model_selection import train_test_split\n",
    "import tensorflow as tf\n",
    "from tensorflow.contrib.layers import flatten\n",
    "import os\n",
    "import plotly\n",
    "import plotly.plotly as py\n",
    "import plotly.figure_factory as ff\n",
    "import csv\n",
    "\n",
    "%matplotlib inline\n",
    "\n",
    "\n",
    "print('[1/1]: Finished importing all relevant modules...')"
   ]
  },
  {
   "cell_type": "markdown",
   "metadata": {},
   "source": [
    "\n",
    "## Step 0: Load The Data"
   ]
  },
  {
   "cell_type": "code",
   "execution_count": 26,
   "metadata": {},
   "outputs": [
    {
     "name": "stdout",
     "output_type": "stream",
     "text": [
      "[0/2]: Opening and Loading data from train.p and test.p...\n",
      "Finished opening and loading data...\n",
      "[1/2]: X_train and y_train now contain features and labels.\n",
      "[2/2]: X_test  and y_test  now contain features and labels.\n"
     ]
    }
   ],
   "source": [
    "## Read signnames.csv and store classIDs and signnames in a dictionary\n",
    "\n",
    "signnames_list = []\n",
    "signnames_dict = {}\n",
    "with open('signnames.csv', 'r') as f:\n",
    "    reader = csv.reader(f)\n",
    "    i = 0\n",
    "    for row in reader:\n",
    "        signnames_list.append(row)\n",
    "        \n",
    "    signnames_list = signnames_list[1:]\n",
    "    \n",
    "    \n",
    "## Load train and test data and extract the files' corresponding\n",
    "## features and labels fro X_train, y_train and X_test, y_test,\n",
    "## respectively.\n",
    "\n",
    "print('[0/2]: Opening and Loading data from train.p and test.p...')\n",
    "\n",
    "with open('train.p', mode='rb') as f:\n",
    "    train = pickle.load(f)\n",
    "with open('test.p', mode='rb') as f:\n",
    "    test = pickle.load(f)\n",
    "\n",
    "X_train, y_train = train['features'], train['labels']\n",
    "X_test, y_test = test['features'], test['labels']\n",
    "\n",
    "print('Finished opening and loading data...')\n",
    "print('[1/2]: X_train and y_train now contain features and labels.')\n",
    "print('[2/2]: X_test  and y_test  now contain features and labels.')"
   ]
  },
  {
   "cell_type": "markdown",
   "metadata": {},
   "source": [
    "---\n",
    "\n",
    "## Step 1: Dataset Summary & Exploration\n",
    "\n",
    "The pickled data is a dictionary with 4 key/value pairs:\n",
    "\n",
    "- `'features'` is a 4D array containing raw pixel data of the traffic sign images, (num examples, width, height, channels).\n",
    "- `'labels'` is a 1D array containing the label/class id of the traffic sign. The file `signnames.csv` contains id -> name mappings for each id.\n",
    "- `'sizes'` is a list containing tuples, (width, height) representing the original width and height the image.\n",
    "- `'coords'` is a list containing tuples, (x1, y1, x2, y2) representing coordinates of a bounding box around the sign in the image. **THESE COORDINATES ASSUME THE ORIGINAL IMAGE. THE PICKLED DATA CONTAINS RESIZED VERSIONS (32 by 32) OF THESE IMAGES**\n",
    "\n",
    "Complete the basic data summary below. Use python, numpy and/or pandas methods to calculate the data summary rather than hard coding the results. For example, the [pandas shape method](http://pandas.pydata.org/pandas-docs/stable/generated/pandas.DataFrame.shape.html) might be useful for calculating some of the summary results. "
   ]
  },
  {
   "cell_type": "markdown",
   "metadata": {},
   "source": [
    "### Provide a Basic Summary of the Data Set Using Python, Numpy and/or Pandas"
   ]
  },
  {
   "cell_type": "code",
   "execution_count": 3,
   "metadata": {},
   "outputs": [
    {
     "name": "stdout",
     "output_type": "stream",
     "text": [
      "Creating Data Table 1 with a summary of the data set...\n"
     ]
    },
    {
     "data": {
      "text/html": [
       "<iframe id=\"igraph\" scrolling=\"no\" style=\"border:none;\" seamless=\"seamless\" src=\"https://plot.ly/~umarqattan/6.embed\" height=\"200px\" width=\"100%\"></iframe>"
      ],
      "text/plain": [
       "<plotly.tools.PlotlyDisplay object>"
      ]
     },
     "execution_count": 3,
     "metadata": {},
     "output_type": "execute_result"
    }
   ],
   "source": [
    "## Data Table 1: Below is a summary of the data set. The table was made using \n",
    "## the plotly library.\n",
    "\n",
    "print('Creating Data Table 1 with a summary of the data set...')\n",
    "\n",
    "num_train, num_test = len(train['features']),len(test['features'])\n",
    "image_shape = test['features'][0].shape\n",
    "unique_classes = np.unique(test['labels'])\n",
    "num_unique_classes = len(unique_classes)\n",
    "\n",
    "training_summary_data_matrix = [['Training Summary', 'Number'],\n",
    "               ['Training Examples',str(num_train)],\n",
    "               ['Testing Examples',str(num_test)],\n",
    "               ['Image Shape', 'W:{}, H:{}, D:{}'.format(image_shape[0],image_shape[1], image_shape[2])],\n",
    "               ['Unique Classes',str(num_unique_classes)]\n",
    "              ]\n",
    "\n",
    "\n",
    "plotly.tools.set_credentials_file(username='umarqattan', api_key='6rTIYzAN8lwsKeFdswXZ')\n",
    "training_summary_data_table = ff.create_table(training_summary_data_matrix)\n",
    "py.iplot(training_summary_data_table,filename='training_summary_data_table')\n",
    "\n"
   ]
  },
  {
   "cell_type": "markdown",
   "metadata": {},
   "source": [
    "### Include an exploratory visualization of the dataset"
   ]
  },
  {
   "cell_type": "markdown",
   "metadata": {},
   "source": [
    "Visualize the German Traffic Signs Dataset using the pickled file(s). This is open ended, suggestions include: plotting traffic sign images, plotting the count of each sign, etc. \n",
    "\n",
    "The [Matplotlib](http://matplotlib.org/) [examples](http://matplotlib.org/examples/index.html) and [gallery](http://matplotlib.org/gallery.html) pages are a great resource for doing visualizations in Python.\n",
    "\n",
    "**NOTE:** It's recommended you start with something simple first. If you wish to do more, come back to it after you've completed the rest of the sections. It can be interesting to look at the distribution of classes in the training, validation and test set. Is the distribution the same? Are there more examples of some classes than others?"
   ]
  },
  {
   "cell_type": "code",
   "execution_count": 4,
   "metadata": {},
   "outputs": [
    {
     "name": "stdout",
     "output_type": "stream",
     "text": [
      "Creating Data Table 2 with a frequency distribution of the data set...\n"
     ]
    },
    {
     "data": {
      "text/html": [
       "<iframe id=\"igraph\" scrolling=\"no\" style=\"border:none;\" seamless=\"seamless\" src=\"https://plot.ly/~umarqattan/4.embed\" height=\"1370px\" width=\"100%\"></iframe>"
      ],
      "text/plain": [
       "<plotly.tools.PlotlyDisplay object>"
      ]
     },
     "execution_count": 4,
     "metadata": {},
     "output_type": "execute_result"
    }
   ],
   "source": [
    "\n",
    "## Data Table 2: Below is a frequency distribution of the traffic sign labels. The table\n",
    "## created using the plotly library.\n",
    "\n",
    "print('Creating Data Table 2 with a frequency distribution of the data set...')\n",
    "\n",
    "frequency_array = np.array(train['labels'])\n",
    "\n",
    "frequency_dict = {}\n",
    "for frequency in frequency_array:\n",
    "    if frequency_dict.get(frequency, 0) is 0:\n",
    "        frequency_dict[frequency] = 1\n",
    "    else:\n",
    "        frequency_dict[frequency] += 1\n",
    "\n",
    "traffic_sign_data_matrix = [['Traffic Sign Label', 'Frequency']]\n",
    "for (key, value) in sorted(frequency_dict.items()):\n",
    "    traffic_sign_data_matrix.append([key, value])\n",
    "    \n",
    "\n",
    "traffic_sign_data_table = ff.create_table(traffic_sign_data_matrix)\n",
    "py.iplot(traffic_sign_data_table,filename='traffic_sign_data_table')"
   ]
  },
  {
   "cell_type": "code",
   "execution_count": 5,
   "metadata": {},
   "outputs": [
    {
     "name": "stdout",
     "output_type": "stream",
     "text": [
      "Displaying 15 randomly selected images from the X_train data set...\n"
     ]
    },
    {
     "data": {
      "image/png": "[encoded data removed]",
      "text/plain": [
       "<matplotlib.figure.Figure at 0x7f0fc753ae80>"
      ]
     },
     "metadata": {},
     "output_type": "display_data"
    },
    {
     "data": {
      "image/png": "[encoded data removed]",
      "text/plain": [
       "<matplotlib.figure.Figure at 0x7f0f4f0ee828>"
      ]
     },
     "metadata": {},
     "output_type": "display_data"
    },
    {
     "data": {
      "image/png": "[encoded data removed]",
      "text/plain": [
       "<matplotlib.figure.Figure at 0x7f0f44063eb8>"
      ]
     },
     "metadata": {},
     "output_type": "display_data"
    },
    {
     "data": {
      "image/png": "[encoded data removed]",
      "text/plain": [
       "<matplotlib.figure.Figure at 0x7f0f43ffad68>"
      ]
     },
     "metadata": {},
     "output_type": "display_data"
    },
    {
     "data": {
      "image/png": "[encoded data removed]",
      "text/plain": [
       "<matplotlib.figure.Figure at 0x7f0f43f884a8>"
      ]
     },
     "metadata": {},
     "output_type": "display_data"
    },
    {
     "data": {
      "image/png": "[encoded data removed]",
      "text/plain": [
       "<matplotlib.figure.Figure at 0x7f0f43f927f0>"
      ]
     },
     "metadata": {},
     "output_type": "display_data"
    },
    {
     "data": {
      "image/png": "[encoded data removed]",
      "text/plain": [
       "<matplotlib.figure.Figure at 0x7f0f43f20320>"
      ]
     },
     "metadata": {},
     "output_type": "display_data"
    },
    {
     "data": {
      "image/png": "[encoded data removed]",
      "text/plain": [
       "<matplotlib.figure.Figure at 0x7f0f43f2dac8>"
      ]
     },
     "metadata": {},
     "output_type": "display_data"
    },
    {
     "data": {
      "image/png": "[encoded data removed]",
      "text/plain": [
       "<matplotlib.figure.Figure at 0x7f0f43e3b0f0>"
      ]
     },
     "metadata": {},
     "output_type": "display_data"
    },
    {
     "data": {
      "image/png": "[encoded data removed]",
      "text/plain": [
       "<matplotlib.figure.Figure at 0x7f0f43e4ce80>"
      ]
     },
     "metadata": {},
     "output_type": "display_data"
    },
    {
     "data": {
      "image/png": "[encoded data removed]",
      "text/plain": [
       "<matplotlib.figure.Figure at 0x7f0f43dd0d68>"
      ]
     },
     "metadata": {},
     "output_type": "display_data"
    },
    {
     "data": {
      "image/png": "[encoded data removed]",
      "text/plain": [
       "<matplotlib.figure.Figure at 0x7f0f43de89e8>"
      ]
     },
     "metadata": {},
     "output_type": "display_data"
    },
    {
     "data": {
      "image/png": "[encoded data removed]",
      "text/plain": [
       "<matplotlib.figure.Figure at 0x7f0f43d6db38>"
      ]
     },
     "metadata": {},
     "output_type": "display_data"
    },
    {
     "data": {
      "image/png": "[encoded data removed]",
      "text/plain": [
       "<matplotlib.figure.Figure at 0x7f0f43d04240>"
      ]
     },
     "metadata": {},
     "output_type": "display_data"
    },
    {
     "data": {
      "image/png": "[encoded data removed]",
      "text/plain": [
       "<matplotlib.figure.Figure at 0x7f0f43c8b5f8>"
      ]
     },
     "metadata": {},
     "output_type": "display_data"
    }
   ],
   "source": [
    "## Data Images 1: Below are 15 randomly selected images from the X_train data set.\n",
    "\n",
    "print('Displaying 15 randomly selected images from the X_train data set...')\n",
    "\n",
    "random_traffic_sign_images = random.sample(range(len(X_train)), 15)\n",
    "\n",
    "for traffic_sign_image in random_traffic_sign_images:\n",
    "    plt.figure(figsize=(2,2))\n",
    "    plt.xlabel(\"Image \" + str(int(traffic_sign_image)))\n",
    "    plt.imshow(X_train[int(traffic_sign_image)])\n"
   ]
  },
  {
   "cell_type": "markdown",
   "metadata": {},
   "source": [
    "----\n",
    "\n",
    "## Step 2: Design and Test a Model Architecture\n",
    "\n",
    "Design and implement a deep learning model that learns to recognize traffic signs. Train and test your model on the [German Traffic Sign Dataset](http://benchmark.ini.rub.de/?section=gtsrb&subsection=dataset).\n",
    "\n",
    "The LeNet-5 implementation shown in the [classroom](https://classroom.udacity.com/nanodegrees/nd013/parts/fbf77062-5703-404e-b60c-95b78b2f3f9e/modules/6df7ae49-c61c-4bb2-a23e-6527e69209ec/lessons/601ae704-1035-4287-8b11-e2c2716217ad/concepts/d4aca031-508f-4e0b-b493-e7b706120f81) at the end of the CNN lesson is a solid starting point. You'll have to change the number of classes and possibly the preprocessing, but aside from that it's plug and play! \n",
    "\n",
    "With the LeNet-5 solution from the lecture, you should expect a validation set accuracy of about 0.89. To meet specifications, the validation set accuracy will need to be at least 0.93. It is possible to get an even higher accuracy, but 0.93 is the minimum for a successful project submission. \n",
    "\n",
    "There are various aspects to consider when thinking about this problem:\n",
    "\n",
    "- Neural network architecture (is the network over or underfitting?)\n",
    "- Play around preprocessing techniques (normalization, rgb to grayscale, etc)\n",
    "- Number of examples per label (some have more than others).\n",
    "- Generate fake data.\n",
    "\n",
    "Here is an example of a [published baseline model on this problem](http://yann.lecun.com/exdb/publis/pdf/sermanet-ijcnn-11.pdf). It's not required to be familiar with the approach used in the paper but, it's good practice to try to read papers like these."
   ]
  },
  {
   "cell_type": "markdown",
   "metadata": {},
   "source": [
    "### Pre-process the Data Set (normalization, grayscale, etc.)"
   ]
  },
  {
   "cell_type": "markdown",
   "metadata": {},
   "source": [
    "Minimally, the image data should be normalized so that the data has mean zero and equal variance. For image data, `(pixel - 128)/ 128` is a quick way to approximately normalize the data and can be used in this project. \n",
    "\n",
    "Other pre-processing steps are optional. You can try different techniques to see if it improves performance. \n",
    "\n",
    "Use the code cell (or multiple code cells, if necessary) to implement the first step of your project."
   ]
  },
  {
   "cell_type": "markdown",
   "metadata": {},
   "source": [
    "## Preprocessing Data Set Helper Functions"
   ]
  },
  {
   "cell_type": "code",
   "execution_count": 6,
   "metadata": {
    "collapsed": true
   },
   "outputs": [],
   "source": [
    "## Helper functions to normalize and grayscale a given image\n",
    "\n",
    "def normalize(image):\n",
    "    x_min, x_max = np.amin(image), np.amax(image)\n",
    "    a, b = 0.1, 0.9\n",
    "    return a + (image-x_min)*(b-a)/(x_max-x_min)\n",
    "\n",
    "def grayscale(image):\n",
    "    return cv2.cvtColor(image,cv2.COLOR_RGB2GRAY)\n",
    "\n"
   ]
  },
  {
   "cell_type": "markdown",
   "metadata": {},
   "source": [
    "## Preprocessing Data Set"
   ]
  },
  {
   "cell_type": "code",
   "execution_count": 7,
   "metadata": {},
   "outputs": [
    {
     "name": "stdout",
     "output_type": "stream",
     "text": [
      "Normalizing the training data...\n",
      "Finished normalizing the training data...\n"
     ]
    }
   ],
   "source": [
    "## Normalize the training data set\n",
    "print('Normalizing the training data...')\n",
    "\n",
    "X_train = normalize(X_train)\n",
    "\n",
    "print('Finished normalizing the training data...')\n",
    "\n",
    "\n"
   ]
  },
  {
   "cell_type": "markdown",
   "metadata": {},
   "source": [
    "### Question 1"
   ]
  },
  {
   "cell_type": "markdown",
   "metadata": {},
   "source": [
    "Describe how you preprocessed the image data. What techniques were chosen and why did you choose these techniques?"
   ]
  },
  {
   "cell_type": "markdown",
   "metadata": {},
   "source": [
    "### Answer 1"
   ]
  },
  {
   "cell_type": "markdown",
   "metadata": {},
   "source": [
    "To preprocess the training data, all that was done was to normalize the images. The reason for using this technique is to ensure that each image has the same dimensions and pixel value ranges.\n",
    "\n",
    "Normalizing the images consists of projecting each pixel value to a range between 0.1 and 0.9. Adding a 0.1 offset to the output value of the normalized data ensures that the pixel value is at least 0.1 and that division by 0 or a number close to 0 does not occur."
   ]
  },
  {
   "cell_type": "markdown",
   "metadata": {},
   "source": [
    "## Augmenting Data Set"
   ]
  },
  {
   "cell_type": "code",
   "execution_count": 8,
   "metadata": {},
   "outputs": [
    {
     "data": {
      "text/html": [
       "<iframe id=\"igraph\" scrolling=\"no\" style=\"border:none;\" seamless=\"seamless\" src=\"https://plot.ly/~umarqattan/8.embed\" height=\"140px\" width=\"100%\"></iframe>"
      ],
      "text/plain": [
       "<plotly.tools.PlotlyDisplay object>"
      ]
     },
     "execution_count": 8,
     "metadata": {},
     "output_type": "execute_result"
    }
   ],
   "source": [
    "## Augment Data Set by generating additional data, splitting it \n",
    "## testing and validation sets.\n",
    "\n",
    "augmented_train_test_split = train_test_split(X_train,\n",
    "                                             y_train,\n",
    "                                             test_size=0.35,\n",
    "                                             random_state=34799)\n",
    "\n",
    "\n",
    "train_features = augmented_train_test_split[0]\n",
    "X_valid        = augmented_train_test_split[1]\n",
    "train_labels   = augmented_train_test_split[2]\n",
    "y_valid        = augmented_train_test_split[3]\n",
    "\n",
    "## Data Table 3: Below is a data table displaying the number of validation\n",
    "## features and the number of training features. The table\n",
    "## created using the plotly library. \n",
    "\n",
    "features_data_matrix = [\n",
    "                    \n",
    "                    [ 'Axis', 'Validation', 'Training'],\n",
    "                    [ 'X', len(X_valid), len(X_train)],\n",
    "                    [ 'y', len(y_valid), len(y_train)]\n",
    "                ]\n",
    "features_data_table = ff.create_table(features_data_matrix)\n",
    "py.iplot(features_data_table,filename='features_data_table')\n",
    "\n",
    "\n",
    "\n",
    "\n"
   ]
  },
  {
   "cell_type": "markdown",
   "metadata": {},
   "source": [
    "### Question 1 (Optional)"
   ]
  },
  {
   "cell_type": "markdown",
   "metadata": {},
   "source": [
    "OPTIONAL: As described in the \"Stand Out Suggestions\" part of the rubric, if you generated additional data for training, describe why you decided to generate additional data, how you generated the data, and provide example images of the additional data. Then describe the characteristics of the augmented training set like number of images in the set, number of images for each class, etc."
   ]
  },
  {
   "cell_type": "markdown",
   "metadata": {},
   "source": [
    "### Answer 1 (Optional)"
   ]
  },
  {
   "cell_type": "markdown",
   "metadata": {},
   "source": [
    "I setup the augmented data set to include 30% of the original data set. The reason I chose 30% of the original data set was that not only for statistical significance, but also to normalize the data so that the classifier can have a higher accuracy."
   ]
  },
  {
   "cell_type": "markdown",
   "metadata": {},
   "source": [
    "### Model Architecture"
   ]
  },
  {
   "cell_type": "code",
   "execution_count": 9,
   "metadata": {
    "collapsed": true
   },
   "outputs": [],
   "source": [
    "## Below is the Architecture for the Convolutional Neural Network\n",
    "\n",
    "def LeNet(x):    \n",
    "    # Hyperparameters\n",
    "    mu = 0\n",
    "    sigma = 0.1\n",
    "    \n",
    "    #Layer 1: Convolutional Layer with an Input shape of 32x32x1 and an Output shape of 28x28x6.\n",
    "    conv1_W = tf.Variable(tf.truncated_normal(shape=(5, 5, 3, 6), mean = mu, stddev = sigma))\n",
    "    conv1_b = tf.Variable(tf.zeros(6))\n",
    "    conv1   = tf.nn.conv2d(x, conv1_W, strides=[1, 1, 1, 1], padding='VALID') + conv1_b\n",
    "\n",
    "    #Activation Function\n",
    "    conv1 = tf.nn.relu(conv1)\n",
    "\n",
    "    #Max Pool Regularization 1: with an Input shape of 28x28x6 and whose Output shape is 14x14x6.\n",
    "    conv1 = tf.nn.max_pool(conv1, ksize=[1, 2, 2, 1], strides=[1, 2, 2, 1], padding='VALID')\n",
    "\n",
    "    #Layer 2: Convolutional Layer with an Output shape of 10x10x16.\n",
    "    conv2_W = tf.Variable(tf.truncated_normal(shape=(5, 5, 6, 16), mean = mu, stddev = sigma))\n",
    "    conv2_b = tf.Variable(tf.zeros(16))\n",
    "    conv2   = tf.nn.conv2d(conv1, conv2_W, strides=[1, 1, 1, 1], padding='VALID') + conv2_b\n",
    "    \n",
    "    #Activation Function 1:\n",
    "    conv2 = tf.nn.relu(conv2)\n",
    "\n",
    "    #Max Pool Regularization 2: with an Input shape of 10x10x16 and an Output shape of 5x5x16.\n",
    "    conv2 = tf.nn.max_pool(conv2, ksize=[1, 2, 2, 1], strides=[1, 2, 2, 1], padding='VALID')\n",
    "\n",
    "    #Flatten Layer 1: with an Input shape of 5x5x16 and an Output shape of 400.\n",
    "    fc0   = flatten(conv2)\n",
    "    \n",
    "    #Layer 3: Fully Connected Layer with an Input shape of 400 and an Output shape of 120.\n",
    "    fc1_W = tf.Variable(tf.truncated_normal(shape=(400, 120), mean = mu, stddev = sigma))\n",
    "    fc1_b = tf.Variable(tf.zeros(120))\n",
    "    fc1   = tf.matmul(fc0, fc1_W) + fc1_b\n",
    "    \n",
    "    #Activation Function 2\n",
    "    fc1    = tf.nn.relu(fc1)\n",
    "\n",
    "    #Layer 4: Fully Connected Layer with an Input shape of 120 and an Output shape of 84.\n",
    "    fc2_W  = tf.Variable(tf.truncated_normal(shape=(120, 84), mean = mu, stddev = sigma))\n",
    "    fc2_b  = tf.Variable(tf.zeros(84))\n",
    "    fc2    = tf.matmul(fc1, fc2_W) + fc2_b\n",
    "    \n",
    "    #Activation Function 3:\n",
    "    fc2    = tf.nn.relu(fc2)\n",
    "\n",
    "    #Layer 5: Fully Connected Layer with an Input shape of 84 and an Output shape of 43.\n",
    "    fc3_W  = tf.Variable(tf.truncated_normal(shape=(84, num_unique_classes), mean = mu, stddev = sigma))\n",
    "    fc3_b  = tf.Variable(tf.zeros(num_unique_classes))\n",
    "    logits = tf.matmul(fc2, fc3_W) + fc3_b\n",
    "    \n",
    "    return logits\n"
   ]
  },
  {
   "cell_type": "markdown",
   "metadata": {
    "collapsed": true
   },
   "source": [
    "### Question 2"
   ]
  },
  {
   "cell_type": "markdown",
   "metadata": {
    "collapsed": true
   },
   "source": [
    "Describe what your final model architecture looks like including model type, layers, layer sizes, connectivity, etc.)"
   ]
  },
  {
   "cell_type": "markdown",
   "metadata": {
    "collapsed": true
   },
   "source": [
    "### Answer 2"
   ]
  },
  {
   "cell_type": "markdown",
   "metadata": {
    "collapsed": true
   },
   "source": [
    "The final deep neural network architecture I used was quite similar to that of the LeNet deep neural network used in Lessons 6 and 7 for Project 2 of the Udacity Self Driving Car Nanodegree program.\n",
    "\n",
    "In Data Table 4 below is a tabulated summary of the LeNet Deep Neural Network used to help classify traffic signs."
   ]
  },
  {
   "cell_type": "code",
   "execution_count": 10,
   "metadata": {},
   "outputs": [
    {
     "data": {
      "text/html": [
       "<iframe id=\"igraph\" scrolling=\"no\" style=\"border:none;\" seamless=\"seamless\" src=\"https://plot.ly/~umarqattan/10.embed\" height=\"440px\" width=\"100%\"></iframe>"
      ],
      "text/plain": [
       "<plotly.tools.PlotlyDisplay object>"
      ]
     },
     "execution_count": 10,
     "metadata": {},
     "output_type": "execute_result"
    }
   ],
   "source": [
    "## Data Table 4: Below is a summary of the Deep Neural Network Architecture.\n",
    "## The table was created using the plotly library.\n",
    "\n",
    "deep_nn_model_summary_data_matrix = [\n",
    "                    \n",
    "                    [ 'Layer', 'Input Shape', 'Output Shape'],\n",
    "                    ['Convolutional 1', '32x32x1', '28x28x6'],\n",
    "                    ['ReLU 1','28x28x6', '28x28x6' ],\n",
    "                    ['Max Pooling 1', '28x28x6', '14x14x6'],\n",
    "                    ['Convolutional 2', '14x14x6', '10x10x16'],\n",
    "                    ['ReLU 2', '10x10x16', '10x10x16'],\n",
    "                    ['Max Pooling 2', '10x10x16', '5x5x16'],\n",
    "                    ['Flatten 1', '5x5x16', '400'],\n",
    "                    ['Fully Connected 1', '400', '120'],\n",
    "                    ['ReLU 3', '120', '120'],\n",
    "                    ['Fully Connected 2', '120', '84'],\n",
    "                    ['ReLU 4', '84', '84'],\n",
    "                    ['Fully Connected 3', '84', '43']\n",
    "                ]\n",
    "deep_nn_model_summary_data_table = ff.create_table(deep_nn_model_summary_data_matrix)\n",
    "py.iplot(deep_nn_model_summary_data_table,filename='deep_nn_model_summary_data_table')\n"
   ]
  },
  {
   "cell_type": "markdown",
   "metadata": {},
   "source": [
    "### Train, Validate and Test the Model"
   ]
  },
  {
   "cell_type": "markdown",
   "metadata": {},
   "source": [
    "A validation set can be used to assess how well the model is performing. A low accuracy on the training and validation\n",
    "sets imply underfitting. A high accuracy on the training set but low accuracy on the validation set implies overfitting."
   ]
  },
  {
   "cell_type": "markdown",
   "metadata": {
    "collapsed": true
   },
   "source": [
    "### Questions 3"
   ]
  },
  {
   "cell_type": "markdown",
   "metadata": {},
   "source": [
    "Describe how you trained your model. The discussion can include the type of optimizer, the batch size, number of epochs and any hyperparameters such as learning rate."
   ]
  },
  {
   "cell_type": "markdown",
   "metadata": {},
   "source": [
    "### Answer 3"
   ]
  },
  {
   "cell_type": "markdown",
   "metadata": {},
   "source": [
    "In order to optimize the LeNet Deep Neural Network used above (LeNet(x)), I used the AdamOptimizer(learning_rate) with a learning rate of 0.001, and a batch size of 128.\n",
    "\n",
    "I tuned the learning rate and batch size hyperparameters as described below.\n",
    "\n",
    "I experimented with the following learning rates [0.0005, 0.001, 0.005, 0.01, 0.05, 0.1] inclusive and found that a learning rate of 0.001 and 0.005 yielded the highest validation accuracy, independent of the batch and epoch sizes.\n",
    "\n",
    "As far as the batch size went, I experimented with [32, 64, 128, 256, 512, 1028, 2048] inclusive. I found that batch sizes of 128 and 256 yielded the highest validation accuracy, independent of the learning rate and epoch size.\n",
    "\n",
    "Lastly, as far as the epoch length went, I experimented with [10, 15, 20] inclusive. I found that epoch lengths of 10 and 15 yielded the highest validation accuracy, independent of the learning rate and batch size.\n",
    "\n",
    "Below is a bit of code that trains the LeNet modified traffic sign classifier model with the abovementioned optimally tuned hyperparameters implemented.\n",
    "\n",
    "\n",
    "\n"
   ]
  },
  {
   "cell_type": "code",
   "execution_count": 11,
   "metadata": {
    "collapsed": true
   },
   "outputs": [],
   "source": [
    "## Hyperparameters\n",
    "\n",
    "epochs = 10\n",
    "batch_size = 128"
   ]
  },
  {
   "cell_type": "code",
   "execution_count": 12,
   "metadata": {},
   "outputs": [
    {
     "name": "stdout",
     "output_type": "stream",
     "text": [
      "Begin Training Model...\n",
      "\n",
      "Finished Training Model...\n",
      "Saving trained model to train_model.ckpt...\n"
     ]
    }
   ],
   "source": [
    "\n",
    "\n",
    "# Training Data Imgaes and Label Placeholders\n",
    "x = tf.placeholder(tf.float32, (None, 32, 32, 3))\n",
    "y = tf.placeholder(tf.int32, (None))\n",
    "one_hot_y = tf.one_hot(y, num_unique_classes)\n",
    "\n",
    "# Training Model Pipeline\n",
    "\n",
    "learning_rate      = 0.005\n",
    "logits             = LeNet(x)\n",
    "cross_entropy      = tf.nn.softmax_cross_entropy_with_logits(logits, one_hot_y)\n",
    "loss_operation     = tf.reduce_mean(cross_entropy)\n",
    "optimizer          = tf.train.AdamOptimizer(learning_rate = learning_rate)\n",
    "training_operation = optimizer.minimize(loss_operation)\n",
    "\n",
    "# Prediction and Accuracy\n",
    "correct_prediction = tf.equal(tf.argmax(logits, 1), tf.argmax(one_hot_y, 1))\n",
    "accuracy_operation = tf.reduce_mean(tf.cast(correct_prediction, tf.float32))\n",
    "\n",
    "# Create Saver for training model\n",
    "saver = tf.train.Saver()\n",
    "\n",
    "# Evaluate Accuracy\n",
    "def evaluate(X_data, y_data):\n",
    "    num_examples = len(X_data)\n",
    "    total_accuracy = 0\n",
    "    session = tf.get_default_session()\n",
    "    for offset in range(0, num_examples, batch_size):\n",
    "        batch_x, batch_y = X_data[offset:offset+batch_size], y_data[offset:offset+batch_size]\n",
    "        accuracy = session.run(accuracy_operation, feed_dict={x: batch_x, y:batch_y})\n",
    "        total_accuracy += accuracy*len(batch_x)\n",
    "    return total_accuracy/num_examples\n",
    "\n",
    "\n",
    "# Train Model\n",
    "\n",
    "validation_accuracies = []\n",
    "training_accuracies = []\n",
    "with tf.Session() as session:\n",
    "    session.run(tf.global_variables_initializer())\n",
    "    num_examples = len(X_train)\n",
    "    \n",
    "    print('Begin Training Model...\\n')\n",
    "    for i in range(epochs):\n",
    "        X_train, y_train = shuffle(X_train, y_train)\n",
    "        for offset in range(0, num_examples, batch_size):\n",
    "            end = offset + batch_size\n",
    "            batch_x, batch_y = X_train[offset:end], y_train[offset:end]\n",
    "            session.run(training_operation, feed_dict={x: batch_x, y: batch_y})\n",
    "            \n",
    "        validation_accuracy = evaluate(X_valid, y_valid)\n",
    "        training_accuracy = evaluate(X_train, y_train)\n",
    "        validation_accuracies.append('{:.3f}'.format(validation_accuracy))\n",
    "        training_accuracies.append('{:.3f}'.format(training_accuracy))\n",
    "    saver.save(session, './train_model.ckpt')\n",
    "    \n",
    "    print('Finished Training Model...')\n",
    "    print('Saving trained model to train_model.ckpt...')"
   ]
  },
  {
   "cell_type": "markdown",
   "metadata": {},
   "source": [
    "### Question 4"
   ]
  },
  {
   "cell_type": "markdown",
   "metadata": {},
   "source": [
    "Include in the discussion the results on the training, validation and test sets and where in the code these were calculated. Your approach may have been an iterative process, in which case, outline the steps you took to get to the final solution and why you chose those steps. Perhaps your solution involved an already well known implementation or architecture. In this case, discuss why you think the architecture is suitable for the current problem."
   ]
  },
  {
   "cell_type": "markdown",
   "metadata": {},
   "source": [
    "### Answer 4"
   ]
  },
  {
   "cell_type": "markdown",
   "metadata": {},
   "source": [
    "In Data Table 5 below are a summary of the results of the training, validation, and test sets shown as an iterative process in 10 epochs.\n",
    "\n",
    "This solution used an already well known architecture, which is an extension of the given LeNet-5 convolutional neural network architecture. The only difference is that I utilized the AdamOptimizer, passing in a slow learning rate of 0.005, and given what I had mentioned in the answer to question 3 above, I had tested several different hyperparameters to get the desired accuracy. \n",
    "\n",
    "The reason I used the LeNet-5 convolutional neural network solution was that it is designed to recognize visual patterns directly from pixel images with minimal preprocessing. This sounded great for classifying characters on signs, so long as the image was bright and clear enough. The only preprocessing I applied to the images used in the test was normalization, hence minimal preprocessing. Since the LeNet-5 convolutional neural network was designed specifically for handwritten character recognition, I was not guaranteed the same accuracy on the validation and test data as seen in the LeNet-5 paper.\n",
    "\n",
    "Further, I utilized an iterative process for determining how accurate the model is by changing the learning rate, batch size, and epoch number. The order of changes to the parameters I made were learning rate first, then batch size, then epoch number. Afterward, I changed the stride steps for the convolutional layers, but this did not help at all, so I stuck with tuning the previously mentioned parameters."
   ]
  },
  {
   "cell_type": "code",
   "execution_count": 13,
   "metadata": {},
   "outputs": [
    {
     "data": {
      "text/html": [
       "<iframe id=\"igraph\" scrolling=\"no\" style=\"border:none;\" seamless=\"seamless\" src=\"https://plot.ly/~umarqattan/12.embed\" height=\"380px\" width=\"100%\"></iframe>"
      ],
      "text/plain": [
       "<plotly.tools.PlotlyDisplay object>"
      ]
     },
     "execution_count": 13,
     "metadata": {},
     "output_type": "execute_result"
    }
   ],
   "source": [
    "## Data Table 5: Below is a summary of the validation accuracies and\n",
    "## training accuracies for the above implemented training model.\n",
    "\n",
    "\n",
    "deep_nn_model_accuracy_summary_data_matrix = [\n",
    "                    [ 'Epoch #', 'Validation Accuracy', 'Training Accuracy'],   \n",
    "                ]\n",
    "\n",
    "for epoch in range(epochs):\n",
    "    deep_nn_model_accuracy_summary_data_matrix.append([epoch+1,validation_accuracies[epoch],training_accuracies[epoch]])\n",
    "\n",
    "deep_nn_model_accuracy_summary_data_table = ff.create_table(deep_nn_model_accuracy_summary_data_matrix)\n",
    "py.iplot(deep_nn_model_accuracy_summary_data_table,filename='deep_nn_model_accuracy_summary_data_table')\n"
   ]
  },
  {
   "cell_type": "markdown",
   "metadata": {},
   "source": [
    "---\n",
    "\n",
    "## Step 3: Test a Model on New Images\n",
    "\n",
    "To give yourself more insight into how your model is working, download at least five pictures of German traffic signs from the web and use your model to predict the traffic sign type.\n",
    "\n",
    "You may find `signnames.csv` useful as it contains mappings from the class id (integer) to the actual sign name."
   ]
  },
  {
   "cell_type": "markdown",
   "metadata": {},
   "source": [
    "### Load and Output the Images"
   ]
  },
  {
   "cell_type": "code",
   "execution_count": 14,
   "metadata": {
    "scrolled": false
   },
   "outputs": [
    {
     "name": "stdout",
     "output_type": "stream",
     "text": [
      "['image_1.ppm', 'image_2.ppm', 'image_3.ppm', 'image_4.ppm', 'image_5.ppm', 'image_6.ppm', 'image_7.ppm', 'image_8.ppm']\n",
      "new_images/image_1.ppm\n",
      "new_images/image_2.ppm\n",
      "new_images/image_3.ppm\n",
      "new_images/image_4.ppm\n",
      "new_images/image_5.ppm\n",
      "new_images/image_6.ppm\n",
      "new_images/image_7.ppm\n",
      "new_images/image_8.ppm\n",
      "Predicted Values [4, 38, 14, 2, 26, 17, 30, 38]\n",
      "Actual    Values [4, 38, 14, 28, 26, 30, 30, 1]\n",
      "['Speed limit (70km/h)', 'Keep right', 'Stop', 'Children crossing', 'Traffic signals', 'Beware of ice/snow', 'Beware of ice/snow', 'Speed limit (30km/h)']\n",
      "['Speed limit (70km/h)', 'Keep right', 'Stop', 'Speed limit (50km/h)', 'Traffic signals', 'No entry', 'Beware of ice/snow', 'Keep right']\n"
     ]
    }
   ],
   "source": [
    "predictions = tf.nn.softmax(logits)\n",
    "\n",
    "new_images = sorted(os.listdir('new_images'))\n",
    "del new_images[0]\n",
    "print(new_images)\n",
    "new_images_list = []\n",
    "actual_new_images_list = [4, 38, 14, 28, 26, 30, 30, 1]\n",
    "# actual_new_images_list_class_names = ['Speed Limit (70km/h)',\n",
    "#                                    'Keep Right',\n",
    "#                                    'Stop',\n",
    "#                                    'No Passing',\n",
    "#                                    'Traffic Signals',\n",
    "#                                    'Right of Way at Next Intersection',\n",
    "#                                    'Beware of Ice/Snow',\n",
    "#                                    'Yield']\n",
    "# predicted_new_images_list_class_names = ['Speed Limit (70km/h)',\n",
    "#                                    'Keep Right',\n",
    "#                                    'Stop',\n",
    "#                                    'Children Crossing',\n",
    "#                                    'Traffic Signals',\n",
    "#                                    'Beware of Ice/Snow',\n",
    "#                                    'Beware of Ice/Snow',\n",
    "#                                    'Speed Limit (30km/h)']\n",
    "for new_image in new_images:\n",
    "    \n",
    "    print('new_images/' + new_image)\n",
    "    image_bitmap = mpimg.imread('new_images/' + new_image)\n",
    "    color_image = cv2.cvtColor(image_bitmap, cv2.COLOR_RGB2HSV)\n",
    "    color_image = cv2.cvtColor(color_image, cv2.COLOR_HSV2RGB)\n",
    "    new_images_list.append(color_image)\n",
    "    \n",
    "new_images_list = normalize(np.array(new_images_list))\n",
    "\n",
    "with tf.Session() as session:\n",
    "    saver.restore(session, './train_model.ckpt')\n",
    "    \n",
    "    prediction_validations = session.run(predictions, feed_dict={x:new_images_list})\n",
    "    predictions = np.argmax(prediction_validations, 1)\n",
    "    saver.save(session, './train_model.ckpt')\n",
    "    \n",
    "    print('Predicted Values', list(predictions))\n",
    "    print('Actual    Values', actual_new_images_list )\n",
    "    \n",
    "actual_new_images_class_names = []\n",
    "prediction_new_images_class_names = []\n",
    "for i in range(len(new_images)):\n",
    "    actual_new_images_class_names.append(signnames_list[actual_new_images_list[i]][1])\n",
    "    prediction_new_images_class_names.append(signnames_list[predictions[i]][1])\n",
    "\n",
    "print(actual_new_images_class_names)\n",
    "print(prediction_new_images_class_names)\n",
    "    "
   ]
  },
  {
   "cell_type": "code",
   "execution_count": 15,
   "metadata": {},
   "outputs": [
    {
     "name": "stdout",
     "output_type": "stream",
     "text": [
      "The test accuracy of the prediction model is 62.5%!!! This is surprisingly good considering this is a rudimentary model of a deep neural network! \n"
     ]
    }
   ],
   "source": [
    "## Calculate the accuracy of the predictions by iterating all predictions\n",
    "## and actual images, check if they're equal (which means they're accurate),\n",
    "## then increment the accuracy by 1/len(new_images).\n",
    "\n",
    "accuracy = 0.0\n",
    "for i in range(len(new_images)):\n",
    "    if predictions[i] == actual_new_images_list[i]:\n",
    "        accuracy += float(1/len(new_images))\n",
    "print('The test accuracy of the prediction model is {}%!!! This is surprisingly good considering this is a rudimentary model of a deep neural network! '.format(accuracy*100.0))\n",
    "\n"
   ]
  },
  {
   "cell_type": "code",
   "execution_count": 16,
   "metadata": {},
   "outputs": [
    {
     "data": {
      "text/html": [
       "<iframe id=\"igraph\" scrolling=\"no\" style=\"border:none;\" seamless=\"seamless\" src=\"https://plot.ly/~umarqattan/14.embed\" height=\"350px\" width=\"100%\"></iframe>"
      ],
      "text/plain": [
       "<plotly.tools.PlotlyDisplay object>"
      ]
     },
     "execution_count": 16,
     "metadata": {},
     "output_type": "execute_result"
    }
   ],
   "source": [
    "## Data Table 6: Below is a summary of the model prediction classification\n",
    "## vs actual image classification. The table was created using the plotly library.\n",
    "\n",
    "\n",
    "deep_nn_model_prediction_summary_data_matrix = [\n",
    "                    [ 'Actual Image Name','Predicted Image Name', 'Accurate?'],   \n",
    "                ]\n",
    "\n",
    "for i in range(len(new_images)): \n",
    "    if predictions[i] == actual_new_images_list[i]:\n",
    "        deep_nn_model_prediction_summary_data_matrix.append([actual_new_images_class_names[i],prediction_new_images_class_names[i],'YES'])\n",
    "    else:\n",
    "        deep_nn_model_prediction_summary_data_matrix.append([actual_new_images_class_names[i],prediction_new_images_class_names[i],'NO'])\n",
    "\n",
    "deep_nn_model_prediction_summary_data_matrix.append(['Accuracy', '','{}%'.format(accuracy*100.0)])\n",
    "deep_nn_model_prediction_summary_data_table = ff.create_table(deep_nn_model_prediction_summary_data_matrix)\n",
    "py.iplot(deep_nn_model_prediction_summary_data_table,filename='deep_nn_model_prediction_summary_data_table')\n"
   ]
  },
  {
   "cell_type": "markdown",
   "metadata": {},
   "source": [
    "### Output Top 5 Softmax Probabilities For Each Image Found on the Web"
   ]
  },
  {
   "cell_type": "code",
   "execution_count": 17,
   "metadata": {
    "collapsed": true
   },
   "outputs": [],
   "source": [
    "with tf.Session() as session:\n",
    "    saver.restore(session, tf.train.latest_checkpoint('.'))\n",
    "    top_k = session.run(tf.nn.top_k(prediction_validations, 5, sorted=True))\n",
    "    saver.save(session, './model_train.ckpt')\n",
    "    \n",
    "\n",
    "soft_max_indices = top_k.indices\n",
    "soft_max_probabilities = top_k.values\n",
    "\n",
    "soft_max_image_indices = []\n",
    "soft_max_image_probs = []\n",
    "soft_max_image_structs = []\n",
    "\n",
    "probs = top_k[0]\n",
    "indices = top_k[1]\n",
    "\n",
    "for i in range(len(new_images)):\n",
    "    soft_max_image_indices.append(list(indices[i]))\n",
    "    soft_max_image_probs.append(list(probs[i]))\n",
    "\n",
    "\n"
   ]
  },
  {
   "cell_type": "markdown",
   "metadata": {},
   "source": [
    "### Question 5"
   ]
  },
  {
   "cell_type": "markdown",
   "metadata": {},
   "source": [
    "Choose five German traffic signs found on the web and provide them in the report. For each image, discuss what quality or qualities might be difficult to classify."
   ]
  },
  {
   "cell_type": "markdown",
   "metadata": {},
   "source": [
    "### Answer 5"
   ]
  },
  {
   "cell_type": "markdown",
   "metadata": {},
   "source": [
    "Image 1: This image is easily classifiable as a 70 km/h sign, but the only problems the classifier may have with it is that the center circle might be too bright and could make the number '70' illegible. Thus, the classifier could read the sign as a stop sign or a different speed limit sign. For the most part, it was a high quality image."
   ]
  },
  {
   "cell_type": "code",
   "execution_count": 18,
   "metadata": {},
   "outputs": [
    {
     "data": {
      "text/html": [
       "<iframe id=\"igraph\" scrolling=\"no\" style=\"border:none;\" seamless=\"seamless\" src=\"https://plot.ly/~umarqattan/32.embed\" height=\"260px\" width=\"100%\"></iframe>"
      ],
      "text/plain": [
       "<plotly.tools.PlotlyDisplay object>"
      ]
     },
     "execution_count": 18,
     "metadata": {},
     "output_type": "execute_result"
    }
   ],
   "source": [
    "soft_max_probabilities_matrix_1 = [\n",
    "                    [ 'Image #1',''],\n",
    "                    [ 'Class ID','Probability']\n",
    "                ]\n",
    "for i in range(len(soft_max_image_indices[0])):\n",
    "    soft_max_probabilities_matrix_1.append([str(soft_max_image_indices[0][i]), str(soft_max_image_probs[0][i])])\n",
    "    \n",
    "soft_max_probabilities_data_table_1 = ff.create_table(soft_max_probabilities_matrix_1)\n",
    "py.iplot(soft_max_probabilities_data_table_1,filename='soft_max_probabilities_matrix_data_table_1')\n"
   ]
  },
  {
   "cell_type": "markdown",
   "metadata": {},
   "source": [
    "Image 2: The keep right traffic sign image, again, is just as easily classifiable as the 70 km/h sign image. The only issue is that it could be classified as a turn right ahead; however, the difference betwen turn right ahead and keep right are significant enough for the classifier to correctly identify this image as a keep right traffic sign. The image is a bit dark, so changing the brightness of the image or lowering the contrast of it might help the classifier more easily or accurately identify it as a keep right traffic sign.\n"
   ]
  },
  {
   "cell_type": "code",
   "execution_count": 19,
   "metadata": {},
   "outputs": [
    {
     "data": {
      "text/html": [
       "<iframe id=\"igraph\" scrolling=\"no\" style=\"border:none;\" seamless=\"seamless\" src=\"https://plot.ly/~umarqattan/34.embed\" height=\"260px\" width=\"100%\"></iframe>"
      ],
      "text/plain": [
       "<plotly.tools.PlotlyDisplay object>"
      ]
     },
     "execution_count": 19,
     "metadata": {},
     "output_type": "execute_result"
    }
   ],
   "source": [
    "soft_max_probabilities_matrix_2 = [\n",
    "                    [ 'Image #2',''],\n",
    "                    [ 'Class ID','Probability']\n",
    "                ]\n",
    "for i in range(len(soft_max_image_indices[1])):\n",
    "    soft_max_probabilities_matrix_2.append([str(soft_max_image_indices[1][i]), str(soft_max_image_probs[1][i])])\n",
    "    \n",
    "soft_max_probabilities_data_table_2 = ff.create_table(soft_max_probabilities_matrix_2)\n",
    "py.iplot(soft_max_probabilities_data_table_2,filename='soft_max_probabilities_matrix_data_table_2')\n"
   ]
  },
  {
   "cell_type": "markdown",
   "metadata": {},
   "source": [
    "Image 3: The stop traffic sign image is just as high quality as the previous two images, where the only possible issue with it is the contrast between the white and red colors. What makes it stick out from the other images is that it is the only sign that is the shape of an octogon."
   ]
  },
  {
   "cell_type": "code",
   "execution_count": 20,
   "metadata": {},
   "outputs": [
    {
     "data": {
      "text/html": [
       "<iframe id=\"igraph\" scrolling=\"no\" style=\"border:none;\" seamless=\"seamless\" src=\"https://plot.ly/~umarqattan/36.embed\" height=\"260px\" width=\"100%\"></iframe>"
      ],
      "text/plain": [
       "<plotly.tools.PlotlyDisplay object>"
      ]
     },
     "execution_count": 20,
     "metadata": {},
     "output_type": "execute_result"
    }
   ],
   "source": [
    "soft_max_probabilities_matrix_3 = [\n",
    "                    [ 'Image #3',''],\n",
    "                    [ 'Class ID','Probability']\n",
    "                ]\n",
    "for i in range(len(soft_max_image_indices[2])):\n",
    "    soft_max_probabilities_matrix_3.append([str(soft_max_image_indices[2][i]), str(soft_max_image_probs[2][i])])\n",
    "    \n",
    "soft_max_probabilities_data_table_3 = ff.create_table(soft_max_probabilities_matrix_3)\n",
    "py.iplot(soft_max_probabilities_data_table_3,filename='soft_max_probabilities_matrix_data_table_3')\n"
   ]
  },
  {
   "cell_type": "markdown",
   "metadata": {},
   "source": [
    "Image 4: The pedestrian/children crossing traffic sign image is a bit difficult for the classifier to get just right. It failed in this case because it thought it was a dangerous curve to the right traffic sign image. It could have also classified the image as a yield sign since it is in the shape of a triangle. To make sure the classifier can accurately identify this image as a children crossing traffic sign is to increase the brightness of the image (as it is too dark), sharpen the image (to more easily define the edges of the children), and increase the contrast (to, again, more easily define the edges of the children)."
   ]
  },
  {
   "cell_type": "code",
   "execution_count": 21,
   "metadata": {},
   "outputs": [
    {
     "data": {
      "text/html": [
       "<iframe id=\"igraph\" scrolling=\"no\" style=\"border:none;\" seamless=\"seamless\" src=\"https://plot.ly/~umarqattan/38.embed\" height=\"260px\" width=\"100%\"></iframe>"
      ],
      "text/plain": [
       "<plotly.tools.PlotlyDisplay object>"
      ]
     },
     "execution_count": 21,
     "metadata": {},
     "output_type": "execute_result"
    }
   ],
   "source": [
    "soft_max_probabilities_matrix_4 = [\n",
    "                    [ 'Image #4',''],\n",
    "                    [ 'Class ID','Probability']\n",
    "                ]\n",
    "for i in range(len(soft_max_image_indices[3])):\n",
    "    soft_max_probabilities_matrix_4.append([str(soft_max_image_indices[3][i]), str(soft_max_image_probs[3][i])])\n",
    "    \n",
    "soft_max_probabilities_data_table_4 = ff.create_table(soft_max_probabilities_matrix_4)\n",
    "py.iplot(soft_max_probabilities_data_table_4,filename='soft_max_probabilities_matrix_data_table_4')\n"
   ]
  },
  {
   "cell_type": "markdown",
   "metadata": {},
   "source": [
    "Image 5: The traffic signals traffic sign is irrefutably a traffic signal traffic signals traffic sign. The only possible way the classifier could incorreclty classify the sign is if the image is too dark (in which case it might identify it as a yield sign) or if the colors in the center of the sign were blurred (in which case it might identify it as a childen crossing sign). In this case, the image was a bit darker than usual, so it would be best to brighten the image and increase the sharpness and contrast of the image slightly to increase accuracy.\n"
   ]
  },
  {
   "cell_type": "code",
   "execution_count": 22,
   "metadata": {},
   "outputs": [
    {
     "data": {
      "text/html": [
       "<iframe id=\"igraph\" scrolling=\"no\" style=\"border:none;\" seamless=\"seamless\" src=\"https://plot.ly/~umarqattan/40.embed\" height=\"260px\" width=\"100%\"></iframe>"
      ],
      "text/plain": [
       "<plotly.tools.PlotlyDisplay object>"
      ]
     },
     "execution_count": 22,
     "metadata": {},
     "output_type": "execute_result"
    }
   ],
   "source": [
    "soft_max_probabilities_matrix_5 = [\n",
    "                    [ 'Image #5',''],\n",
    "                    [ 'Class ID','Probability']\n",
    "                ]\n",
    "for i in range(len(soft_max_image_indices[4])):\n",
    "    soft_max_probabilities_matrix_5.append([str(soft_max_image_indices[4][i]), str(soft_max_image_probs[4][i])])\n",
    "    \n",
    "soft_max_probabilities_data_table_5 = ff.create_table(soft_max_probabilities_matrix_5)\n",
    "py.iplot(soft_max_probabilities_data_table_5,filename='soft_max_probabilities_matrix_data_table_5')\n"
   ]
  },
  {
   "cell_type": "markdown",
   "metadata": {},
   "source": [
    "Image 6: The beware of ice/snow traffic sign was misclassified as a end of passing of vehicles over 3.5 metric tons. The misclassification of this sign makes no sense as Image 7 was correctly classified as a beware of ice/snow traffic sign, even though its image quality was worse than that of Image 6. This could be due to the shape of the sign in that it was square instead of circular with a red border. I might want to zoom into the image to extract only the features of the image within the sign and not the outer shape of the sign as that might affect the classification of the image.\n"
   ]
  },
  {
   "cell_type": "code",
   "execution_count": 23,
   "metadata": {},
   "outputs": [
    {
     "data": {
      "text/html": [
       "<iframe id=\"igraph\" scrolling=\"no\" style=\"border:none;\" seamless=\"seamless\" src=\"https://plot.ly/~umarqattan/42.embed\" height=\"260px\" width=\"100%\"></iframe>"
      ],
      "text/plain": [
       "<plotly.tools.PlotlyDisplay object>"
      ]
     },
     "execution_count": 23,
     "metadata": {},
     "output_type": "execute_result"
    }
   ],
   "source": [
    "soft_max_probabilities_matrix_6 = [\n",
    "                    [ 'Image #6',''],\n",
    "                    [ 'Class ID','Probability']\n",
    "                ]\n",
    "for i in range(len(soft_max_image_indices[5])):\n",
    "    soft_max_probabilities_matrix_6.append([str(soft_max_image_indices[5][i]), str(soft_max_image_probs[5][i])])\n",
    "    \n",
    "soft_max_probabilities_data_table_6 = ff.create_table(soft_max_probabilities_matrix_6)\n",
    "py.iplot(soft_max_probabilities_data_table_6,filename='soft_max_probabilities_matrix_data_table_6')\n"
   ]
  },
  {
   "cell_type": "markdown",
   "metadata": {},
   "source": [
    "Image 7: The classifier immediately recognized that it was a beware of ice/snow traffic sign as discussed in Image 6. The image had the perfect brightness and definition (although the resolution was a bit low)."
   ]
  },
  {
   "cell_type": "code",
   "execution_count": 24,
   "metadata": {},
   "outputs": [
    {
     "data": {
      "text/html": [
       "<iframe id=\"igraph\" scrolling=\"no\" style=\"border:none;\" seamless=\"seamless\" src=\"https://plot.ly/~umarqattan/44.embed\" height=\"260px\" width=\"100%\"></iframe>"
      ],
      "text/plain": [
       "<plotly.tools.PlotlyDisplay object>"
      ]
     },
     "execution_count": 24,
     "metadata": {},
     "output_type": "execute_result"
    }
   ],
   "source": [
    "soft_max_probabilities_matrix_7 = [\n",
    "                    [ 'Image #7',''],\n",
    "                    [ 'Class ID','Probability']\n",
    "                ]\n",
    "for i in range(len(soft_max_image_indices[6])):\n",
    "    soft_max_probabilities_matrix_7.append([str(soft_max_image_indices[6][i]), str(soft_max_image_probs[6][i])])\n",
    "    \n",
    "soft_max_probabilities_data_table_7 = ff.create_table(soft_max_probabilities_matrix_7)\n",
    "py.iplot(soft_max_probabilities_data_table_7,filename='soft_max_probabilities_matrix_data_table_7')\n"
   ]
  },
  {
   "cell_type": "markdown",
   "metadata": {},
   "source": [
    "Image 8: The 30 km/h traffic sign image could not be recognized. The classifier consistenly recognized the image as a yield sign probably becaue the image had random bright spots in the shape of a triangle, which is similar to a yield traffic sign. What I would do to help the classifier correctly classify the image is grayscale the image, blur it, invert the grayscale to color and increase the brightness slightly. This will negate the bright spots of the image and possibly help the classifier out."
   ]
  },
  {
   "cell_type": "code",
   "execution_count": 25,
   "metadata": {
    "scrolled": true
   },
   "outputs": [
    {
     "data": {
      "text/html": [
       "<iframe id=\"igraph\" scrolling=\"no\" style=\"border:none;\" seamless=\"seamless\" src=\"https://plot.ly/~umarqattan/46.embed\" height=\"260px\" width=\"100%\"></iframe>"
      ],
      "text/plain": [
       "<plotly.tools.PlotlyDisplay object>"
      ]
     },
     "execution_count": 25,
     "metadata": {},
     "output_type": "execute_result"
    }
   ],
   "source": [
    "soft_max_probabilities_matrix_8 = [\n",
    "                    [ 'Image #8',''],\n",
    "                    [ 'Class ID','Probability']\n",
    "                ]\n",
    "for i in range(len(soft_max_image_indices[6])):\n",
    "    soft_max_probabilities_matrix_8.append([str(soft_max_image_indices[7][i]), str(soft_max_image_probs[7][i])])\n",
    "    \n",
    "soft_max_probabilities_data_table_8 = ff.create_table(soft_max_probabilities_matrix_8)\n",
    "py.iplot(soft_max_probabilities_data_table_8,filename='soft_max_probabilities_matrix_data_table_8')\n"
   ]
  },
  {
   "cell_type": "markdown",
   "metadata": {},
   "source": [
    "### Conclusion and References"
   ]
  },
  {
   "cell_type": "markdown",
   "metadata": {},
   "source": [
    "To successfully complete the Self Driving Car Nanodegree Project 2, Traffic Sign Classifier, I used the LeNet Convolutional Neural Network architecture provided in the lessons, the German Traffic Sign Dataset, LeNet hyperparameter suggestions to tune my convnet, and plotly for my data organization and visualization. \n",
    "\n",
    "I was able to obtain a fairly high testing validation on my images (both for randomly selected images from the given image data set and 8 German Traffic Sign images from the German Traffic Sign Dataset). The accuracy for the randomly selected images resulted in >93% (98.8 after 10 epochs at a learning rate of 0.005 and a batch size of 128). Lastly, the accuracy for the 8 extra images from the German Traffic Sign Data Set resulted in a surprising 62.5% (which is 5/8 correctly classified images!). \n",
    "\n",
    "Overall, I am pleased with the outcome of this project, and would probably enhance it later on with more diagrams and detailed visuals to truly represent the accuracy of the classifier. I might also add a grayscale and image modifier to make it easier for the classifier to distinguish ambiguous signs in the given images.\n",
    "\n"
   ]
  },
  {
   "cell_type": "markdown",
   "metadata": {},
   "source": [
    "### References"
   ]
  },
  {
   "cell_type": "markdown",
   "metadata": {},
   "source": [
    "##### 1. http://yann.lecun.com/exdb/lenet/"
   ]
  },
  {
   "cell_type": "markdown",
   "metadata": {},
   "source": [
    "##### 2. http://www.pyimagesearch.com/2016/08/01/lenet-convolutional-neural-network-in-python/"
   ]
  },
  {
   "cell_type": "markdown",
   "metadata": {},
   "source": [
    "> **Note**: Once you have completed all of the code implementations and successfully answered each question above, you may finalize your work by exporting the iPython Notebook as an HTML document. You can do this by using the menu above and navigating to  \\n\",\n",
    "    \"**File -> Download as -> HTML (.html)**. Include the finished document along with this notebook as your submission."
   ]
  }
 ],
 "metadata": {
  "anaconda-cloud": {},
  "kernelspec": {
   "display_name": "Python 3",
   "language": "python",
   "name": "python3"
  },
  "language_info": {
   "codemirror_mode": {
    "name": "ipython",
    "version": 3
   },
   "file_extension": ".py",
   "mimetype": "text/x-python",
   "name": "python",
   "nbconvert_exporter": "python",
   "pygments_lexer": "ipython3",
   "version": "3.5.2"
  },
  "widgets": {
   "state": {},
   "version": "1.1.2"
  }
 },
 "nbformat": 4,
 "nbformat_minor": 1
}
